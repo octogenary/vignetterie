{
 "cells": [
  {
   "cell_type": "code",
   "execution_count": 215,
   "id": "d1764c38",
   "metadata": {},
   "outputs": [],
   "source": [
    "import os\n",
    "import subprocess\n",
    "from datetime import datetime"
   ]
  },
  {
   "cell_type": "markdown",
   "id": "50eaac88",
   "metadata": {},
   "source": [
    "We first fetch all the TeX sources."
   ]
  },
  {
   "cell_type": "code",
   "execution_count": null,
   "id": "84176b42",
   "metadata": {},
   "outputs": [
    {
     "name": "stdout",
     "output_type": "stream",
     "text": [
      "decret-71\n",
      "\u001b[37m[STATUS]  \u001b[0mmake4ht: Conversion started\n",
      "\u001b[37m[STATUS]  \u001b[0mmake4ht: Input file: ../output/tex/decret-71.tex\n"
     ]
    },
    {
     "name": "stderr",
     "output_type": "stream",
     "text": [
      "rm: cannot remove '../output/html/*': No such file or directory\n"
     ]
    },
    {
     "name": "stdout",
     "output_type": "stream",
     "text": [
      "\u001b[37m[STATUS]  \u001b[0mmake4ht: Conversion finished\n"
     ]
    }
   ],
   "source": [
    "paths = [path[:-4] for path in os.listdir(\"../tex/vignettes\")]\n",
    "vignettes_root = \"../tex/vignettes/\"\n",
    "subprocess.Popen(\"rm ../output/html/*\", shell=True)\n",
    "def process_file(vignette):\n",
    "    file = f\"{vignettes_root}{vignette}.tex\"\n",
    "    date = datetime.utcfromtimestamp(int(subprocess.run([\"git\", \"log\", \"-1\", \"\"\"--pretty=\"%ct\"\"\"\"\", \"../tex/vignettes/doors.tex\"], stdout=subprocess.PIPE).stdout.decode('utf-8')[1:].strip())).strftime('%H.%M temps universel coordonné, %-d %B %Y')\n",
    "    with open(file) as f:\n",
    "        original_tex = f.read()\n",
    "        metadata, body = original_tex.split(\"===\")\n",
    "        metadata_split = metadata.split(\"\\n\")\n",
    "        title = metadata_split[0]\n",
    "        tags = metadata_split[2]\n",
    "        stripped_file = f\"../output/tex/{vignette}.tex\"\n",
    "        standalone = r\"\"\"\n",
    "        \\documentclass{article}\n",
    "        \\usepackage{../tex/resources/vignetterie}\n",
    "        \\bibliography{../tex/resources/vignetterie.bib}\n",
    "        \\begin{document}\n",
    "        \"\"\" + body + r\"\"\"\n",
    "        \\printbibliography[heading=none]\n",
    "        \\end{document}\"\"\"\n",
    "        with open(stripped_file, \"w\") as sf:\n",
    "            sf.write(standalone)\n",
    "        torun = f\"make4ht --utf8 --lua --build-file ../config/build.mk4  --output-dir ../build/standalones --config ../config/main.cfg --build-dir ../build/ {stripped_file}\"\n",
    "        subprocess.Popen(torun, shell=True).wait()\n",
    "        with open(f\"../build/standalones/{vignette}.html\") as sf:\n",
    "            with open(f\"../build/standalones/{vignette}.css\") as css:\n",
    "                html_body = sf.read().split(\"<body>\")[1].split(\"</body>\")[0]\n",
    "                html = f\"\"\"\n",
    "<!DOCTYPE html>\n",
    "<html>\n",
    "<head><title>{title}</title>\n",
    "<meta charset=\"utf-8\" />\n",
    "<meta content='width=device-width,initial-scale=1' name='viewport' /> \n",
    "<link href='{vignette}.css' rel='stylesheet' type='text/css' /> \n",
    "</head>\n",
    "<body>\n",
    "<header>\n",
    "    <h1>Vignetterie.</h1>\n",
    "    <nav>\n",
    "        <a href=\"https://vignetterie.org/\">Home</a> ·\n",
    "        <a href=\"https://vignetterie.org/tags\"</a>Tags</a>\n",
    "    </nav>\n",
    "</header>\n",
    "<main>\n",
    "{html_body}\n",
    "<h2>À propos.</h2>\n",
    "<p>Étiquettes : {tags}.</p>\n",
    "<p>Dernière mise à jour : {date}.</p>\n",
    "</main>\n",
    "</body>\n",
    "</html>\"\"\"\n",
    "                with open(f\"../output/html/{vignette}.css\", \"w\") as final_css:\n",
    "                    final_css.write(css.read())\n",
    "                with open(f\"../output/html/{vignette}.html\", \"w\") as final:\n",
    "                    final.write(html)\n",
    "\n",
    "for vignette in paths[0:1]:\n",
    "    print(vignette)\n",
    "    process_file(vignette)"
   ]
  },
  {
   "cell_type": "code",
   "execution_count": 212,
   "id": "2e6eceb3",
   "metadata": {},
   "outputs": [
    {
     "ename": "AttributeError",
     "evalue": "module 'datetime' has no attribute 'utcfromtimestamp'",
     "output_type": "error",
     "traceback": [
      "\u001b[31m---------------------------------------------------------------------------\u001b[39m",
      "\u001b[31mAttributeError\u001b[39m                            Traceback (most recent call last)",
      "\u001b[36mCell\u001b[39m\u001b[36m \u001b[39m\u001b[32mIn[212]\u001b[39m\u001b[32m, line 1\u001b[39m\n\u001b[32m----> \u001b[39m\u001b[32m1\u001b[39m \u001b[43mdatetime\u001b[49m\u001b[43m.\u001b[49m\u001b[43mutcfromtimestamp\u001b[49m(\u001b[38;5;28mint\u001b[39m(subprocess.run([\u001b[33m\"\u001b[39m\u001b[33mgit\u001b[39m\u001b[33m\"\u001b[39m, \u001b[33m\"\u001b[39m\u001b[33mlog\u001b[39m\u001b[33m\"\u001b[39m, \u001b[33m\"\u001b[39m\u001b[33m-1\u001b[39m\u001b[33m\"\u001b[39m, \u001b[33m\"\"\"\u001b[39m\u001b[33m--pretty=\u001b[39m\u001b[33m\"\u001b[39m\u001b[38;5;132;01m%c\u001b[39;00m\u001b[33mt\u001b[39m\u001b[33m\"\"\"\u001b[39m\u001b[33m\"\u001b[39m\u001b[33m\"\u001b[39m, \u001b[33m\"\u001b[39m\u001b[33m../tex/vignettes/doors.tex\u001b[39m\u001b[33m\"\u001b[39m], stdout=subprocess.PIPE).stdout.decode(\u001b[33m'\u001b[39m\u001b[33mutf-8\u001b[39m\u001b[33m'\u001b[39m)[\u001b[32m1\u001b[39m:].strip())).strftime(\u001b[33m'\u001b[39m\u001b[33m%\u001b[39m\u001b[33mH.\u001b[39m\u001b[33m%\u001b[39m\u001b[33mM temps universel coordonné, \u001b[39m\u001b[38;5;132;01m%-d\u001b[39;00m\u001b[33m \u001b[39m\u001b[33m%\u001b[39m\u001b[33mB \u001b[39m\u001b[33m%\u001b[39m\u001b[33mY\u001b[39m\u001b[33m'\u001b[39m)\n",
      "\u001b[31mAttributeError\u001b[39m: module 'datetime' has no attribute 'utcfromtimestamp'"
     ]
    }
   ],
   "source": [
    "datetime.utcfromtimestamp(int(subprocess.run([\"git\", \"log\", \"-1\", \"\"\"--pretty=\"%ct\"\"\"\"\", \"../tex/vignettes/doors.tex\"], stdout=subprocess.PIPE).stdout.decode('utf-8')[1:].strip())).strftime('%H.%M temps universel coordonné, %-d %B %Y')"
   ]
  },
  {
   "cell_type": "code",
   "execution_count": null,
   "id": "1aa18810",
   "metadata": {},
   "outputs": [],
   "source": []
  }
 ],
 "metadata": {
  "kernelspec": {
   "display_name": "env",
   "language": "python",
   "name": "python3"
  },
  "language_info": {
   "codemirror_mode": {
    "name": "ipython",
    "version": 3
   },
   "file_extension": ".py",
   "mimetype": "text/x-python",
   "name": "python",
   "nbconvert_exporter": "python",
   "pygments_lexer": "ipython3",
   "version": "3.11.12"
  }
 },
 "nbformat": 4,
 "nbformat_minor": 5
}
